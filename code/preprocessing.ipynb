{
 "cells": [
  {
   "cell_type": "code",
   "execution_count": 1,
   "metadata": {},
   "outputs": [],
   "source": [
    "import matplotlib\n",
    "import numpy as np\n",
    "import pandas as pd\n",
    "import matplotlib.pyplot as plt\n",
    "%matplotlib inline"
   ]
  },
  {
   "cell_type": "code",
   "execution_count": 2,
   "metadata": {},
   "outputs": [],
   "source": [
    "def handleSingleLine(line, containerDict) :\n",
    "    line = line.strip()\n",
    "    label = line[0:1]\n",
    "    containerDict['label'].append(label)\n",
    "    lineItems = line[2:].split()\n",
    "    hasFtOne = False\n",
    "    hasFtTwo = False\n",
    "    hasFtThree = False\n",
    "    hasFtFour = False\n",
    "    for item in lineItems :\n",
    "        tab = item.split(':')\n",
    "        if tab[0] == '1' :\n",
    "            containerDict['featureOne'].append(tab[1])\n",
    "            hasFtOne = True\n",
    "        elif tab[0] == '2' :\n",
    "            containerDict['featureTwo'].append(tab[1])\n",
    "            hasFtTwo = True\n",
    "        elif tab[0] == '3' :\n",
    "            containerDict['featureThree'].append(tab[1])\n",
    "            hasFtThree = True\n",
    "        else :\n",
    "            containerDict['featureFour'].append(tab[1])\n",
    "            hasFtFour = True\n",
    "    \n",
    "    if hasFtOne is False :\n",
    "        containerDict['featureOne'].append(np.nan)\n",
    "    if hasFtTwo is False :\n",
    "        containerDict['featureTwo'].append(np.nan)\n",
    "    if hasFtThree is False :\n",
    "        containerDict['featureThree'].append(np.nan)\n",
    "    if hasFtFour is False :\n",
    "        containerDict['featureFour'].append(np.nan)"
   ]
  },
  {
   "cell_type": "code",
   "execution_count": 3,
   "metadata": {},
   "outputs": [
    {
     "name": "stdout",
     "output_type": "stream",
     "text": [
      "<class 'pandas.core.frame.DataFrame'>\n",
      "RangeIndex: 3089 entries, 0 to 3088\n",
      "Data columns (total 5 columns):\n",
      "featureOne      3089 non-null object\n",
      "featureTwo      3089 non-null object\n",
      "featureThree    3089 non-null object\n",
      "featureFour     3089 non-null object\n",
      "label           3089 non-null object\n",
      "dtypes: object(5)\n",
      "memory usage: 120.7+ KB\n",
      "None\n"
     ]
    }
   ],
   "source": [
    "# Load the train data into a dataframe\n",
    "trainDict = {\n",
    "    'featureOne' : [],\n",
    "    'featureTwo' : [],\n",
    "    'featureThree' : [],\n",
    "    'featureFour' : [], \n",
    "    'label' : []\n",
    "}\n",
    "trainDataPath = '../data/train.1'\n",
    "\n",
    "with open(trainDataPath) as f:\n",
    "    for line in f :\n",
    "        handleSingleLine(line, trainDict)\n",
    "        \n",
    "dfRawTrain = pd.DataFrame(trainDict)\n",
    "print(dfRawTrain.info())"
   ]
  },
  {
   "cell_type": "code",
   "execution_count": 4,
   "metadata": {},
   "outputs": [
    {
     "name": "stdout",
     "output_type": "stream",
     "text": [
      "<class 'pandas.core.frame.DataFrame'>\n",
      "RangeIndex: 4000 entries, 0 to 3999\n",
      "Data columns (total 5 columns):\n",
      "featureOne      4000 non-null object\n",
      "featureTwo      4000 non-null object\n",
      "featureThree    4000 non-null object\n",
      "featureFour     4000 non-null object\n",
      "label           4000 non-null object\n",
      "dtypes: object(5)\n",
      "memory usage: 156.3+ KB\n",
      "None\n"
     ]
    }
   ],
   "source": [
    "# Load the test data into a dataframe\n",
    "testDict = {\n",
    "    'featureOne' : [],\n",
    "    'featureTwo' : [],\n",
    "    'featureThree' : [],\n",
    "    'featureFour' : [], \n",
    "    'label' : []\n",
    "}\n",
    "testDataPath = '../data/test.1'\n",
    "\n",
    "with open(testDataPath) as f:\n",
    "    for line in f :\n",
    "        handleSingleLine(line, testDict)\n",
    "        \n",
    "dfRawTest = pd.DataFrame(testDict)\n",
    "print(dfRawTest.info())"
   ]
  },
  {
   "cell_type": "code",
   "execution_count": 5,
   "metadata": {},
   "outputs": [
    {
     "name": "stdout",
     "output_type": "stream",
     "text": [
      "TRAINNING SET HEAD\n",
      "     featureOne    featureTwo   featureThree   featureFour label\n",
      "0  2.617300e+01  5.886700e+01  -1.894697e-01  1.251225e+02     1\n",
      "1  5.707397e+01  2.214040e+02   8.607959e-02  1.229114e+02     1\n",
      "2  1.725900e+01  1.734360e+02  -1.298053e-01  1.250318e+02     1\n",
      "3  2.177940e+01  1.249531e+02   1.538853e-01  1.527150e+02     1\n",
      "4  9.133997e+01  2.935699e+02   1.423918e-01  1.605402e+02     1\n",
      "\n",
      "TRAINNING SET TAIL\n",
      "        featureOne    featureTwo   featureThree   featureFour label\n",
      "3084  1.791730e+01  3.272930e+01   3.772986e-01  1.390780e+02     0\n",
      "3085  1.776500e+01  1.379900e+01  -9.485000e-02  5.921447e+01     0\n",
      "3086  2.391101e+01  3.890001e+01   4.704049e-01  1.257871e+02     0\n",
      "3087  2.230670e+01  2.262220e+01   2.117224e-01  1.012818e+02     0\n",
      "3088  1.640820e+01  3.920219e+01  -9.912787e-02  3.248707e+01     0\n",
      "\n",
      "TEST SET HEAD\n",
      "     featureOne    featureTwo   featureThree   featureFour label\n",
      "0  4.236298e+00  2.198210e+01  -3.503797e-01  9.752163e+01     0\n",
      "1  4.236298e+00  2.198210e+01  -3.503797e-01  9.752163e+01     0\n",
      "2  1.657013e+00  8.066301e+01   2.126006e-01  6.866834e+01     0\n",
      "3  2.804001e+00  2.235300e+01   3.414961e-01  8.095125e+01     0\n",
      "4  2.835701e+00  3.020160e+01   3.855923e-01  9.489861e+01     0\n",
      "\n",
      "TEST SET TAIL\n",
      "        featureOne    featureTwo   featureThree   featureFour label\n",
      "3995  1.999030e+01  4.123810e+01  -2.490638e-01  8.986404e+01     1\n",
      "3996  5.190140e+01  1.299364e+02   2.168488e-01  1.742238e+02     1\n",
      "3997  1.980900e+01  1.937110e+02   1.284131e-01  1.661076e+02     1\n",
      "3998  3.053200e+01  1.894370e+02  -1.540674e-01  1.597849e+02     1\n",
      "3999  2.885260e+01  9.778030e+01   9.721822e-02  1.280064e+02     1\n"
     ]
    }
   ],
   "source": [
    "print(\"TRAINNING SET HEAD\")\n",
    "print(dfRawTrain.head())\n",
    "print()\n",
    "print(\"TRAINNING SET TAIL\")\n",
    "print(dfRawTrain.tail())\n",
    "print()\n",
    "print(\"TEST SET HEAD\")\n",
    "print(dfRawTest.head())\n",
    "print()\n",
    "print(\"TEST SET TAIL\")\n",
    "print(dfRawTest.tail())"
   ]
  },
  {
   "cell_type": "code",
   "execution_count": 6,
   "metadata": {},
   "outputs": [
    {
     "name": "stdout",
     "output_type": "stream",
     "text": [
      "TRAINNING SET HEAD\n",
      "        featureOne    featureTwo   featureThree   featureFour label\n",
      "1160  2.510699e+01  1.731410e+02   2.033954e-01  1.175940e+02     1\n",
      "2088  1.932600e+01  2.661301e+01   4.600038e-01  1.139959e+02     0\n",
      "990   1.566900e+01  9.849200e+01   4.123228e-01  2.815289e+01     1\n",
      "234   6.437598e+01  3.735129e+02  -1.172970e-01  1.531710e+02     1\n",
      "373   0.000000e+00  1.133990e+02   3.370253e-01  9.347311e+01     1\n",
      "\n",
      "TRAINNING SET TAIL\n",
      "        featureOne    featureTwo   featureThree   featureFour label\n",
      "2763  1.893200e+00  2.115880e+01  -1.053824e-01  5.764889e+01     0\n",
      "908   8.342099e+01  3.725500e+02   1.248703e-01  1.557501e+02     1\n",
      "2448  1.608994e+00  1.759900e+01   2.653475e-01  1.226038e+02     0\n",
      "2618  5.090004e+00  6.386002e+00   2.386798e-01  1.034928e+02     0\n",
      "453   2.292610e+01  1.012691e+02   2.839870e-01  9.065781e+01     1\n",
      "\n",
      "TEST SET HEAD\n",
      "        featureOne    featureTwo   featureThree   featureFour label\n",
      "424   1.644203e+00  3.467520e+01   2.654754e-01  1.316320e+02     0\n",
      "865   1.929780e+01  2.387380e+01   1.632868e-01  7.647425e+01     0\n",
      "3151  2.069800e+01  1.954910e+02  -1.777618e-01  1.344143e+02     1\n",
      "1975  1.952860e+01  2.186670e+01   3.082187e-01  9.365713e+01     0\n",
      "3897  9.198993e+01  2.116600e+02   1.669130e-01  1.320082e+02     1\n",
      "\n",
      "TEST SET TAIL\n",
      "        featureOne    featureTwo   featureThree   featureFour label\n",
      "1209  2.000999e-01  3.988380e+01   4.320267e-01  3.639277e+01     0\n",
      "2472  2.170920e+01  8.985079e+01  -7.225678e-02  1.330245e+02     1\n",
      "2005  6.231598e+01  1.696580e+02   1.283468e-01  1.053330e+02     1\n",
      "177   1.649800e+01  2.546100e+01  -2.136104e-01  3.575555e+01     0\n",
      "3448  2.136100e+01  1.432470e+02  -2.647610e-01  1.038334e+02     1\n"
     ]
    }
   ],
   "source": [
    "# Shuffle Training and Test Set\n",
    "trainIndexes = np.arange(dfRawTrain.shape[0])\n",
    "np.random.shuffle(trainIndexes)\n",
    "dfTrain = dfRawTrain.iloc[trainIndexes]\n",
    "\n",
    "testIndexes = np.arange(dfRawTest.shape[0])\n",
    "np.random.shuffle(testIndexes)\n",
    "dfTest = dfRawTest.iloc[testIndexes]\n",
    "\n",
    "print(\"TRAINNING SET HEAD\")\n",
    "print(dfTrain.head())\n",
    "print()\n",
    "print(\"TRAINNING SET TAIL\")\n",
    "print(dfTrain.tail())\n",
    "print()\n",
    "print(\"TEST SET HEAD\")\n",
    "print(dfTest.head())\n",
    "print()\n",
    "print(\"TEST SET TAIL\")\n",
    "print(dfTest.tail())"
   ]
  },
  {
   "cell_type": "code",
   "execution_count": null,
   "metadata": {},
   "outputs": [],
   "source": []
  }
 ],
 "metadata": {
  "kernelspec": {
   "display_name": "Python 3",
   "language": "python",
   "name": "python3"
  },
  "language_info": {
   "codemirror_mode": {
    "name": "ipython",
    "version": 3
   },
   "file_extension": ".py",
   "mimetype": "text/x-python",
   "name": "python",
   "nbconvert_exporter": "python",
   "pygments_lexer": "ipython3",
   "version": "3.7.0"
  }
 },
 "nbformat": 4,
 "nbformat_minor": 2
}
