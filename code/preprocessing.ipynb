{
 "cells": [
  {
   "cell_type": "code",
   "execution_count": 1,
   "metadata": {},
   "outputs": [],
   "source": [
    "import matplotlib\n",
    "import numpy as np\n",
    "import pandas as pd\n",
    "import matplotlib.pyplot as plt\n",
    "%matplotlib inline"
   ]
  },
  {
   "cell_type": "code",
   "execution_count": 2,
   "metadata": {},
   "outputs": [],
   "source": [
    "def handleSingleLine(line, containerDict) :\n",
    "    line = line.strip()\n",
    "    label = line[0:1]\n",
    "    containerDict['label'].append(label)\n",
    "    lineItems = line[2:].split()\n",
    "    hasFtOne = False\n",
    "    hasFtTwo = False\n",
    "    hasFtThree = False\n",
    "    hasFtFour = False\n",
    "    for item in lineItems :\n",
    "        tab = item.split(':')\n",
    "        if tab[0] == '1' :\n",
    "            containerDict['featureOne'].append(tab[1])\n",
    "            hasFtOne = True\n",
    "        elif tab[0] == '2' :\n",
    "            containerDict['featureTwo'].append(tab[1])\n",
    "            hasFtTwo = True\n",
    "        elif tab[0] == '3' :\n",
    "            containerDict['featureThree'].append(tab[1])\n",
    "            hasFtThree = True\n",
    "        else :\n",
    "            containerDict['featureFour'].append(tab[1])\n",
    "            hasFtFour = True\n",
    "    \n",
    "    if hasFtOne is False :\n",
    "        containerDict['featureOne'].append(np.nan)\n",
    "    if hasFtTwo is False :\n",
    "        containerDict['featureTwo'].append(np.nan)\n",
    "    if hasFtThree is False :\n",
    "        containerDict['featureThree'].append(np.nan)\n",
    "    if hasFtFour is False :\n",
    "        containerDict['featureFour'].append(np.nan)"
   ]
  },
  {
   "cell_type": "code",
   "execution_count": 3,
   "metadata": {},
   "outputs": [
    {
     "name": "stdout",
     "output_type": "stream",
     "text": [
      "<class 'pandas.core.frame.DataFrame'>\n",
      "RangeIndex: 3089 entries, 0 to 3088\n",
      "Data columns (total 5 columns):\n",
      "featureOne      3089 non-null object\n",
      "featureTwo      3089 non-null object\n",
      "featureThree    3089 non-null object\n",
      "featureFour     3089 non-null object\n",
      "label           3089 non-null object\n",
      "dtypes: object(5)\n",
      "memory usage: 120.7+ KB\n",
      "None\n"
     ]
    }
   ],
   "source": [
    "# Load the train data into a dataframe\n",
    "trainDict = {\n",
    "    'featureOne' : [],\n",
    "    'featureTwo' : [],\n",
    "    'featureThree' : [],\n",
    "    'featureFour' : [], \n",
    "    'label' : []\n",
    "}\n",
    "trainDataPath = '../data/train.1'\n",
    "\n",
    "with open(trainDataPath) as f:\n",
    "    for line in f :\n",
    "        handleSingleLine(line, trainDict)\n",
    "        \n",
    "dfRawTrain = pd.DataFrame(trainDict)\n",
    "print(dfRawTrain.info())"
   ]
  },
  {
   "cell_type": "code",
   "execution_count": 4,
   "metadata": {},
   "outputs": [
    {
     "name": "stdout",
     "output_type": "stream",
     "text": [
      "<class 'pandas.core.frame.DataFrame'>\n",
      "RangeIndex: 4000 entries, 0 to 3999\n",
      "Data columns (total 5 columns):\n",
      "featureOne      4000 non-null object\n",
      "featureTwo      4000 non-null object\n",
      "featureThree    4000 non-null object\n",
      "featureFour     4000 non-null object\n",
      "label           4000 non-null object\n",
      "dtypes: object(5)\n",
      "memory usage: 156.3+ KB\n",
      "None\n"
     ]
    }
   ],
   "source": [
    "# Load the test data into a dataframe\n",
    "testDict = {\n",
    "    'featureOne' : [],\n",
    "    'featureTwo' : [],\n",
    "    'featureThree' : [],\n",
    "    'featureFour' : [], \n",
    "    'label' : []\n",
    "}\n",
    "testDataPath = '../data/test.1'\n",
    "\n",
    "with open(testDataPath) as f:\n",
    "    for line in f :\n",
    "        handleSingleLine(line, testDict)\n",
    "        \n",
    "dfRawTest = pd.DataFrame(testDict)\n",
    "print(dfRawTest.info())"
   ]
  },
  {
   "cell_type": "code",
   "execution_count": 5,
   "metadata": {},
   "outputs": [
    {
     "name": "stdout",
     "output_type": "stream",
     "text": [
      "TRAINNING SET HEAD\n",
      "     featureOne    featureTwo   featureThree   featureFour label\n",
      "0  2.617300e+01  5.886700e+01  -1.894697e-01  1.251225e+02     1\n",
      "1  5.707397e+01  2.214040e+02   8.607959e-02  1.229114e+02     1\n",
      "2  1.725900e+01  1.734360e+02  -1.298053e-01  1.250318e+02     1\n",
      "3  2.177940e+01  1.249531e+02   1.538853e-01  1.527150e+02     1\n",
      "4  9.133997e+01  2.935699e+02   1.423918e-01  1.605402e+02     1\n",
      "\n",
      "TRAINNING SET TAIL\n",
      "        featureOne    featureTwo   featureThree   featureFour label\n",
      "3084  1.791730e+01  3.272930e+01   3.772986e-01  1.390780e+02     0\n",
      "3085  1.776500e+01  1.379900e+01  -9.485000e-02  5.921447e+01     0\n",
      "3086  2.391101e+01  3.890001e+01   4.704049e-01  1.257871e+02     0\n",
      "3087  2.230670e+01  2.262220e+01   2.117224e-01  1.012818e+02     0\n",
      "3088  1.640820e+01  3.920219e+01  -9.912787e-02  3.248707e+01     0\n",
      "\n",
      "TEST SET HEAD\n",
      "     featureOne    featureTwo   featureThree   featureFour label\n",
      "0  4.236298e+00  2.198210e+01  -3.503797e-01  9.752163e+01     0\n",
      "1  4.236298e+00  2.198210e+01  -3.503797e-01  9.752163e+01     0\n",
      "2  1.657013e+00  8.066301e+01   2.126006e-01  6.866834e+01     0\n",
      "3  2.804001e+00  2.235300e+01   3.414961e-01  8.095125e+01     0\n",
      "4  2.835701e+00  3.020160e+01   3.855923e-01  9.489861e+01     0\n",
      "\n",
      "TEST SET TAIL\n",
      "        featureOne    featureTwo   featureThree   featureFour label\n",
      "3995  1.999030e+01  4.123810e+01  -2.490638e-01  8.986404e+01     1\n",
      "3996  5.190140e+01  1.299364e+02   2.168488e-01  1.742238e+02     1\n",
      "3997  1.980900e+01  1.937110e+02   1.284131e-01  1.661076e+02     1\n",
      "3998  3.053200e+01  1.894370e+02  -1.540674e-01  1.597849e+02     1\n",
      "3999  2.885260e+01  9.778030e+01   9.721822e-02  1.280064e+02     1\n"
     ]
    }
   ],
   "source": [
    "print(\"TRAINNING SET HEAD\")\n",
    "print(dfRawTrain.head())\n",
    "print()\n",
    "print(\"TRAINNING SET TAIL\")\n",
    "print(dfRawTrain.tail())\n",
    "print()\n",
    "print(\"TEST SET HEAD\")\n",
    "print(dfRawTest.head())\n",
    "print()\n",
    "print(\"TEST SET TAIL\")\n",
    "print(dfRawTest.tail())"
   ]
  },
  {
   "cell_type": "code",
   "execution_count": 6,
   "metadata": {},
   "outputs": [
    {
     "name": "stdout",
     "output_type": "stream",
     "text": [
      "TRAINNING SET HEAD\n",
      "        featureOne    featureTwo   featureThree   featureFour label\n",
      "3064  1.906800e+01  3.541800e+01   4.107695e-01  8.509315e+01     0\n",
      "1034  4.831660e+01  1.040272e+02  -1.452188e-01  1.463127e+02     1\n",
      "919   2.188210e+01  5.352270e+01  -2.914536e-01  1.034653e+02     1\n",
      "1229  2.633002e+01  2.320390e+02   1.241583e-01  1.427036e+02     1\n",
      "1984  2.046201e+01  9.144499e+01   3.958357e-01  1.512785e+02     1\n",
      "\n",
      "TRAINNING SET TAIL\n",
      "        featureOne    featureTwo   featureThree   featureFour label\n",
      "1879  2.176930e+01  4.302150e+01   2.387209e-01  1.038773e+02     1\n",
      "304   1.299828e+02  7.939580e+01  -1.956031e-01  1.511934e+02     1\n",
      "1731  1.871770e+01  1.512708e+02  -2.666806e-01  7.135729e+01     1\n",
      "2568  4.589100e+00  2.480270e+01   2.572163e-01  2.776287e+01     0\n",
      "1419  1.380490e+02  2.683690e+02   1.520632e-01  1.300883e+02     1\n",
      "\n",
      "TEST SET HEAD\n",
      "        featureOne    featureTwo   featureThree   featureFour label\n",
      "2135  2.521997e+01  3.554004e+01  -1.420489e-01  1.106395e+02     1\n",
      "1768  2.120300e+01  6.360001e+00  -2.695927e-01  8.933669e+01     0\n",
      "3787  2.723500e+01  1.496670e+02  -9.663618e-02  1.525832e+02     1\n",
      "358   1.760199e+01  2.947600e+01  -1.486391e-01  6.442481e+01     0\n",
      "341   1.697240e+01  2.777240e+01  -1.323290e-01  4.702220e+01     0\n",
      "\n",
      "TEST SET TAIL\n",
      "        featureOne    featureTwo   featureThree   featureFour label\n",
      "2764  3.013501e+01  1.430080e+02  -1.098143e-01  1.095793e+02     1\n",
      "1467  1.800079e-01  4.407701e+01   2.388995e-01  3.517876e+01     0\n",
      "3289  2.536430e+01  9.907819e+01   1.225719e-01  1.115981e+02     1\n",
      "3776  2.708099e+01  1.279670e+02   2.683311e-01  1.114058e+02     1\n",
      "662   1.586800e+01  4.798900e+01   3.958898e-01  6.262028e+01     0\n"
     ]
    }
   ],
   "source": [
    "# Shuffle Training and Test Set\n",
    "trainIndexes = np.arange(dfRawTrain.shape[0])\n",
    "np.random.shuffle(trainIndexes)\n",
    "dfTrain = dfRawTrain.iloc[trainIndexes]\n",
    "\n",
    "testIndexes = np.arange(dfRawTest.shape[0])\n",
    "np.random.shuffle(testIndexes)\n",
    "dfTest = dfRawTest.iloc[testIndexes]\n",
    "\n",
    "print(\"TRAINNING SET HEAD\")\n",
    "print(dfTrain.head())\n",
    "print()\n",
    "print(\"TRAINNING SET TAIL\")\n",
    "print(dfTrain.tail())\n",
    "print()\n",
    "print(\"TEST SET HEAD\")\n",
    "print(dfTest.head())\n",
    "print()\n",
    "print(\"TEST SET TAIL\")\n",
    "print(dfTest.tail())"
   ]
  },
  {
   "cell_type": "code",
   "execution_count": 7,
   "metadata": {},
   "outputs": [
    {
     "name": "stdout",
     "output_type": "stream",
     "text": [
      "<class 'pandas.core.frame.DataFrame'>\n",
      "Int64Index: 3089 entries, 3064 to 1419\n",
      "Data columns (total 5 columns):\n",
      "featureOne      3089 non-null object\n",
      "featureTwo      3089 non-null object\n",
      "featureThree    3089 non-null object\n",
      "featureFour     3089 non-null object\n",
      "label           3089 non-null object\n",
      "dtypes: object(5)\n",
      "memory usage: 144.8+ KB\n",
      "None\n",
      "\n",
      "<class 'pandas.core.frame.DataFrame'>\n",
      "Int64Index: 4000 entries, 2135 to 662\n",
      "Data columns (total 5 columns):\n",
      "featureOne      4000 non-null object\n",
      "featureTwo      4000 non-null object\n",
      "featureThree    4000 non-null object\n",
      "featureFour     4000 non-null object\n",
      "label           4000 non-null object\n",
      "dtypes: object(5)\n",
      "memory usage: 187.5+ KB\n",
      "None\n"
     ]
    }
   ],
   "source": [
    "print(dfTrain.info())\n",
    "print()\n",
    "print(dfTest.info())"
   ]
  },
  {
   "cell_type": "code",
   "execution_count": 8,
   "metadata": {},
   "outputs": [
    {
     "name": "stdout",
     "output_type": "stream",
     "text": [
      "<class 'pandas.core.frame.DataFrame'>\n",
      "Int64Index: 3089 entries, 3064 to 1419\n",
      "Data columns (total 5 columns):\n",
      "featureOne      3089 non-null float32\n",
      "featureTwo      3089 non-null float32\n",
      "featureThree    3089 non-null float32\n",
      "featureFour     3089 non-null float32\n",
      "label           3089 non-null int16\n",
      "dtypes: float32(4), int16(1)\n",
      "memory usage: 78.4 KB\n",
      "None\n",
      "\n",
      "<class 'pandas.core.frame.DataFrame'>\n",
      "Int64Index: 4000 entries, 2135 to 662\n",
      "Data columns (total 5 columns):\n",
      "featureOne      4000 non-null float32\n",
      "featureTwo      4000 non-null float32\n",
      "featureThree    4000 non-null float32\n",
      "featureFour     4000 non-null float32\n",
      "label           4000 non-null int16\n",
      "dtypes: float32(4), int16(1)\n",
      "memory usage: 101.6 KB\n",
      "None\n"
     ]
    }
   ],
   "source": [
    "# Convert feature to the right column\n",
    "dfTrain.featureOne = dfTrain.featureOne.astype(np.float32)\n",
    "dfTrain.featureTwo = dfTrain.featureTwo.astype(np.float32)\n",
    "dfTrain.featureThree = dfTrain.featureThree.astype(np.float32)\n",
    "dfTrain.featureFour = dfTrain.featureFour.astype(np.float32)\n",
    "dfTrain.label = dfTrain.label.astype(np.int16)\n",
    "\n",
    "dfTest.featureOne = dfTest.featureOne.astype(np.float32)\n",
    "dfTest.featureTwo = dfTest.featureTwo.astype(np.float32)\n",
    "dfTest.featureThree = dfTest.featureThree.astype(np.float32)\n",
    "dfTest.featureFour = dfTest.featureFour.astype(np.float32)\n",
    "dfTest.label = dfTest.label.astype(np.int16)\n",
    "\n",
    "print(dfTrain.info())\n",
    "print()\n",
    "print(dfTest.info())"
   ]
  },
  {
   "cell_type": "code",
   "execution_count": null,
   "metadata": {},
   "outputs": [],
   "source": []
  }
 ],
 "metadata": {
  "kernelspec": {
   "display_name": "Python 3",
   "language": "python",
   "name": "python3"
  },
  "language_info": {
   "codemirror_mode": {
    "name": "ipython",
    "version": 3
   },
   "file_extension": ".py",
   "mimetype": "text/x-python",
   "name": "python",
   "nbconvert_exporter": "python",
   "pygments_lexer": "ipython3",
   "version": "3.7.0"
  }
 },
 "nbformat": 4,
 "nbformat_minor": 2
}
