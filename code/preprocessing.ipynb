{
 "cells": [
  {
   "cell_type": "code",
   "execution_count": 1,
   "metadata": {},
   "outputs": [],
   "source": [
    "import matplotlib\n",
    "import numpy as np\n",
    "import pandas as pd\n",
    "import matplotlib.pyplot as plt\n",
    "%matplotlib inline"
   ]
  },
  {
   "cell_type": "code",
   "execution_count": 2,
   "metadata": {},
   "outputs": [],
   "source": [
    "def handleSingleLine(line, containerDict) :\n",
    "    line = line.strip()\n",
    "    label = line[0:1]\n",
    "    containerDict['label'].append(label)\n",
    "    lineItems = line[2:].split()\n",
    "    hasFtOne = False\n",
    "    hasFtTwo = False\n",
    "    hasFtThree = False\n",
    "    hasFtFour = False\n",
    "    for item in lineItems :\n",
    "        tab = item.split(':')\n",
    "        if tab[0] == '1' :\n",
    "            containerDict['featureOne'].append(tab[1])\n",
    "            hasFtOne = True\n",
    "        elif tab[0] == '2' :\n",
    "            containerDict['featureTwo'].append(tab[1])\n",
    "            hasFtTwo = True\n",
    "        elif tab[0] == '3' :\n",
    "            containerDict['featureThree'].append(tab[1])\n",
    "            hasFtThree = True\n",
    "        else :\n",
    "            containerDict['featureFour'].append(tab[1])\n",
    "            hasFtFour = True\n",
    "    \n",
    "    if hasFtOne is False :\n",
    "        containerDict['featureOne'].append(np.nan)\n",
    "    if hasFtTwo is False :\n",
    "        containerDict['featureTwo'].append(np.nan)\n",
    "    if hasFtThree is False :\n",
    "        containerDict['featureThree'].append(np.nan)\n",
    "    if hasFtFour is False :\n",
    "        containerDict['featureFour'].append(np.nan)"
   ]
  },
  {
   "cell_type": "code",
   "execution_count": 3,
   "metadata": {},
   "outputs": [
    {
     "name": "stdout",
     "output_type": "stream",
     "text": [
      "<class 'pandas.core.frame.DataFrame'>\n",
      "RangeIndex: 3089 entries, 0 to 3088\n",
      "Data columns (total 5 columns):\n",
      "featureOne      3089 non-null object\n",
      "featureTwo      3089 non-null object\n",
      "featureThree    3089 non-null object\n",
      "featureFour     3089 non-null object\n",
      "label           3089 non-null object\n",
      "dtypes: object(5)\n",
      "memory usage: 120.7+ KB\n",
      "None\n"
     ]
    }
   ],
   "source": [
    "# Load the train data into a dataframe\n",
    "trainDict = {\n",
    "    'featureOne' : [],\n",
    "    'featureTwo' : [],\n",
    "    'featureThree' : [],\n",
    "    'featureFour' : [], \n",
    "    'label' : []\n",
    "}\n",
    "trainDataPath = '../data/train.1'\n",
    "\n",
    "with open(trainDataPath) as f:\n",
    "    for line in f :\n",
    "        handleSingleLine(line, trainDict)\n",
    "        \n",
    "dfRawTrain = pd.DataFrame(trainDict)\n",
    "print(dfRawTrain.info())"
   ]
  },
  {
   "cell_type": "code",
   "execution_count": 4,
   "metadata": {},
   "outputs": [
    {
     "name": "stdout",
     "output_type": "stream",
     "text": [
      "<class 'pandas.core.frame.DataFrame'>\n",
      "RangeIndex: 4000 entries, 0 to 3999\n",
      "Data columns (total 5 columns):\n",
      "featureOne      4000 non-null object\n",
      "featureTwo      4000 non-null object\n",
      "featureThree    4000 non-null object\n",
      "featureFour     4000 non-null object\n",
      "label           4000 non-null object\n",
      "dtypes: object(5)\n",
      "memory usage: 156.3+ KB\n",
      "None\n"
     ]
    }
   ],
   "source": [
    "# Load the test data into a dataframe\n",
    "testDict = {\n",
    "    'featureOne' : [],\n",
    "    'featureTwo' : [],\n",
    "    'featureThree' : [],\n",
    "    'featureFour' : [], \n",
    "    'label' : []\n",
    "}\n",
    "testDataPath = '../data/test.1'\n",
    "\n",
    "with open(testDataPath) as f:\n",
    "    for line in f :\n",
    "        handleSingleLine(line, testDict)\n",
    "        \n",
    "dfRawTest = pd.DataFrame(testDict)\n",
    "print(dfRawTest.info())"
   ]
  },
  {
   "cell_type": "code",
   "execution_count": 5,
   "metadata": {},
   "outputs": [
    {
     "name": "stdout",
     "output_type": "stream",
     "text": [
      "TRAINNING SET HEAD\n",
      "     featureOne    featureTwo   featureThree   featureFour label\n",
      "0  2.617300e+01  5.886700e+01  -1.894697e-01  1.251225e+02     1\n",
      "1  5.707397e+01  2.214040e+02   8.607959e-02  1.229114e+02     1\n",
      "2  1.725900e+01  1.734360e+02  -1.298053e-01  1.250318e+02     1\n",
      "3  2.177940e+01  1.249531e+02   1.538853e-01  1.527150e+02     1\n",
      "4  9.133997e+01  2.935699e+02   1.423918e-01  1.605402e+02     1\n",
      "\n",
      "TRAINNING SET TAIL\n",
      "        featureOne    featureTwo   featureThree   featureFour label\n",
      "3084  1.791730e+01  3.272930e+01   3.772986e-01  1.390780e+02     0\n",
      "3085  1.776500e+01  1.379900e+01  -9.485000e-02  5.921447e+01     0\n",
      "3086  2.391101e+01  3.890001e+01   4.704049e-01  1.257871e+02     0\n",
      "3087  2.230670e+01  2.262220e+01   2.117224e-01  1.012818e+02     0\n",
      "3088  1.640820e+01  3.920219e+01  -9.912787e-02  3.248707e+01     0\n",
      "\n",
      "TEST SET HEAD\n",
      "     featureOne    featureTwo   featureThree   featureFour label\n",
      "0  4.236298e+00  2.198210e+01  -3.503797e-01  9.752163e+01     0\n",
      "1  4.236298e+00  2.198210e+01  -3.503797e-01  9.752163e+01     0\n",
      "2  1.657013e+00  8.066301e+01   2.126006e-01  6.866834e+01     0\n",
      "3  2.804001e+00  2.235300e+01   3.414961e-01  8.095125e+01     0\n",
      "4  2.835701e+00  3.020160e+01   3.855923e-01  9.489861e+01     0\n",
      "\n",
      "TEST SET TAIL\n",
      "        featureOne    featureTwo   featureThree   featureFour label\n",
      "3995  1.999030e+01  4.123810e+01  -2.490638e-01  8.986404e+01     1\n",
      "3996  5.190140e+01  1.299364e+02   2.168488e-01  1.742238e+02     1\n",
      "3997  1.980900e+01  1.937110e+02   1.284131e-01  1.661076e+02     1\n",
      "3998  3.053200e+01  1.894370e+02  -1.540674e-01  1.597849e+02     1\n",
      "3999  2.885260e+01  9.778030e+01   9.721822e-02  1.280064e+02     1\n"
     ]
    }
   ],
   "source": [
    "print(\"TRAINNING SET HEAD\")\n",
    "print(dfRawTrain.head())\n",
    "print()\n",
    "print(\"TRAINNING SET TAIL\")\n",
    "print(dfRawTrain.tail())\n",
    "print()\n",
    "print(\"TEST SET HEAD\")\n",
    "print(dfRawTest.head())\n",
    "print()\n",
    "print(\"TEST SET TAIL\")\n",
    "print(dfRawTest.tail())"
   ]
  },
  {
   "cell_type": "code",
   "execution_count": 6,
   "metadata": {},
   "outputs": [
    {
     "name": "stdout",
     "output_type": "stream",
     "text": [
      "TRAINNING SET HEAD\n",
      "        featureOne    featureTwo   featureThree   featureFour label\n",
      "2290  4.215996e+00  3.910600e+01   3.487943e-01  1.371801e+02     0\n",
      "1885  9.425000e+01  3.937310e+02  -1.495478e-01  1.492323e+02     1\n",
      "1759  9.021997e+01  2.806500e+02  -1.685806e-01  1.544948e+02     1\n",
      "51    3.237060e+01  1.020206e+02  -8.579080e-02  1.253724e+02     1\n",
      "1351  6.726151e+01  5.847210e+01  -1.671654e-01  1.168139e+02     1\n",
      "\n",
      "TRAINNING SET TAIL\n",
      "        featureOne    featureTwo   featureThree   featureFour label\n",
      "2078  1.672000e+01  2.092900e+01  -2.901029e-01  4.269902e+01     0\n",
      "789   2.660000e+01  7.643501e+01  -2.764095e-01  9.424216e+01     1\n",
      "340   0.000000e+00  1.345220e+02  -1.889924e-01  1.453486e+02     1\n",
      "2821  8.168983e-01  1.868850e+01  -1.441226e-01  1.243177e+02     0\n",
      "3075  1.666501e+01  6.471008e+00   3.890119e-01  1.245896e+02     0\n",
      "\n",
      "TEST SET HEAD\n",
      "        featureOne    featureTwo   featureThree   featureFour label\n",
      "3116  3.742395e+01  1.665480e+02  -1.779989e-01  1.337661e+02     1\n",
      "3872  3.861200e+01  1.266230e+02   2.329405e-01  1.637867e+02     1\n",
      "1848  2.337070e+01  4.578350e+01  -2.674103e-01  9.038590e+01     0\n",
      "3983  4.310400e+01  1.401360e+02  -9.101307e-02  1.105763e+02     1\n",
      "561   1.162697e+00  5.123309e+01   2.513631e-01  5.564386e+01     0\n",
      "\n",
      "TEST SET TAIL\n",
      "        featureOne    featureTwo   featureThree   featureFour label\n",
      "1004  1.806220e+01  2.709180e+01   4.094431e-01  1.301900e+02     0\n",
      "275   1.741301e+01  6.365700e+01  -1.232037e-01  5.735775e+01     0\n",
      "3554  2.753400e+01  1.863700e+02   1.601750e-01  9.753811e+01     1\n",
      "2888  3.050150e+01  1.268360e+02  -1.214793e-01  1.709801e+02     1\n",
      "1238  2.387009e-01  2.373410e+01   4.707422e-01  2.775189e+01     0\n"
     ]
    }
   ],
   "source": [
    "# Shuffle Training and Test Set\n",
    "trainIndexes = np.arange(dfRawTrain.shape[0])\n",
    "np.random.shuffle(trainIndexes)\n",
    "dfTrain = dfRawTrain.iloc[trainIndexes]\n",
    "\n",
    "testIndexes = np.arange(dfRawTest.shape[0])\n",
    "np.random.shuffle(testIndexes)\n",
    "dfTest = dfRawTest.iloc[testIndexes]\n",
    "\n",
    "print(\"TRAINNING SET HEAD\")\n",
    "print(dfTrain.head())\n",
    "print()\n",
    "print(\"TRAINNING SET TAIL\")\n",
    "print(dfTrain.tail())\n",
    "print()\n",
    "print(\"TEST SET HEAD\")\n",
    "print(dfTest.head())\n",
    "print()\n",
    "print(\"TEST SET TAIL\")\n",
    "print(dfTest.tail())"
   ]
  },
  {
   "cell_type": "code",
   "execution_count": 7,
   "metadata": {},
   "outputs": [
    {
     "name": "stdout",
     "output_type": "stream",
     "text": [
      "<class 'pandas.core.frame.DataFrame'>\n",
      "Int64Index: 3089 entries, 2290 to 3075\n",
      "Data columns (total 5 columns):\n",
      "featureOne      3089 non-null object\n",
      "featureTwo      3089 non-null object\n",
      "featureThree    3089 non-null object\n",
      "featureFour     3089 non-null object\n",
      "label           3089 non-null object\n",
      "dtypes: object(5)\n",
      "memory usage: 144.8+ KB\n",
      "None\n",
      "\n",
      "<class 'pandas.core.frame.DataFrame'>\n",
      "Int64Index: 4000 entries, 3116 to 1238\n",
      "Data columns (total 5 columns):\n",
      "featureOne      4000 non-null object\n",
      "featureTwo      4000 non-null object\n",
      "featureThree    4000 non-null object\n",
      "featureFour     4000 non-null object\n",
      "label           4000 non-null object\n",
      "dtypes: object(5)\n",
      "memory usage: 187.5+ KB\n",
      "None\n"
     ]
    }
   ],
   "source": [
    "print(dfTrain.info())\n",
    "print()\n",
    "print(dfTest.info())"
   ]
  },
  {
   "cell_type": "code",
   "execution_count": 8,
   "metadata": {},
   "outputs": [
    {
     "name": "stdout",
     "output_type": "stream",
     "text": [
      "<class 'pandas.core.frame.DataFrame'>\n",
      "Int64Index: 3089 entries, 2290 to 3075\n",
      "Data columns (total 5 columns):\n",
      "featureOne      3089 non-null float32\n",
      "featureTwo      3089 non-null float32\n",
      "featureThree    3089 non-null float32\n",
      "featureFour     3089 non-null float32\n",
      "label           3089 non-null int16\n",
      "dtypes: float32(4), int16(1)\n",
      "memory usage: 78.4 KB\n",
      "None\n",
      "\n",
      "<class 'pandas.core.frame.DataFrame'>\n",
      "Int64Index: 4000 entries, 3116 to 1238\n",
      "Data columns (total 5 columns):\n",
      "featureOne      4000 non-null float32\n",
      "featureTwo      4000 non-null float32\n",
      "featureThree    4000 non-null float32\n",
      "featureFour     4000 non-null float32\n",
      "label           4000 non-null int16\n",
      "dtypes: float32(4), int16(1)\n",
      "memory usage: 101.6 KB\n",
      "None\n"
     ]
    }
   ],
   "source": [
    "# Convert feature to the right column\n",
    "dfTrain.featureOne = dfTrain.featureOne.astype(np.float32)\n",
    "dfTrain.featureTwo = dfTrain.featureTwo.astype(np.float32)\n",
    "dfTrain.featureThree = dfTrain.featureThree.astype(np.float32)\n",
    "dfTrain.featureFour = dfTrain.featureFour.astype(np.float32)\n",
    "dfTrain.label = dfTrain.label.astype(np.int16)\n",
    "\n",
    "dfTest.featureOne = dfTest.featureOne.astype(np.float32)\n",
    "dfTest.featureTwo = dfTest.featureTwo.astype(np.float32)\n",
    "dfTest.featureThree = dfTest.featureThree.astype(np.float32)\n",
    "dfTest.featureFour = dfTest.featureFour.astype(np.float32)\n",
    "dfTest.label = dfTest.label.astype(np.int16)\n",
    "\n",
    "print(dfTrain.info())\n",
    "print()\n",
    "print(dfTest.info())"
   ]
  },
  {
   "cell_type": "code",
   "execution_count": 9,
   "metadata": {},
   "outputs": [
    {
     "name": "stdout",
     "output_type": "stream",
     "text": [
      "      featureOne  featureTwo  featureThree  featureFour  label\n",
      "2290   -1.000000   -1.000000     -1.000000    -1.000000     -1\n",
      "1885   94.250000  393.730988     -0.149548   149.232300      1\n",
      "1759   90.219971  280.649994     -0.168581   154.494797      1\n",
      "51     32.370602  102.020599     -0.085791   125.372398      1\n",
      "1351   67.261513   58.472099     -0.167165   116.813904      1\n",
      "\n",
      "      featureOne  featureTwo  featureThree  featureFour  label\n",
      "3116    37.42395  166.548004     -0.177999   133.766098      1\n",
      "3872    38.61200  126.623001      0.232940   163.786697      1\n",
      "1848    -1.00000   -1.000000     -1.000000    -1.000000     -1\n",
      "3983    43.10400  140.136002     -0.091013   110.576302      1\n",
      "561     -1.00000   -1.000000     -1.000000    -1.000000     -1\n"
     ]
    }
   ],
   "source": [
    "# Change the Label 0 to -1 to match SVM format\n",
    "indexesTrain = dfTrain.label == 0\n",
    "dfTrain.loc[indexesTrain] = -1\n",
    "indexesTest = dfTest.label == 0\n",
    "dfTest.loc[indexesTest] = -1\n",
    "\n",
    "print(dfTrain.head())\n",
    "print()\n",
    "print(dfTest.head())"
   ]
  },
  {
   "cell_type": "code",
   "execution_count": null,
   "metadata": {},
   "outputs": [],
   "source": []
  }
 ],
 "metadata": {
  "kernelspec": {
   "display_name": "Python 3",
   "language": "python",
   "name": "python3"
  },
  "language_info": {
   "codemirror_mode": {
    "name": "ipython",
    "version": 3
   },
   "file_extension": ".py",
   "mimetype": "text/x-python",
   "name": "python",
   "nbconvert_exporter": "python",
   "pygments_lexer": "ipython3",
   "version": "3.7.0"
  }
 },
 "nbformat": 4,
 "nbformat_minor": 2
}
